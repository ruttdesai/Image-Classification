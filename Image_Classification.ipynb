{
  "nbformat": 4,
  "nbformat_minor": 0,
  "metadata": {
    "colab": {
      "name": "Image Classification.ipynb",
      "provenance": [],
      "collapsed_sections": [],
      "authorship_tag": "ABX9TyP8B32cvyb9wzshcP46KTv8",
      "include_colab_link": true
    },
    "kernelspec": {
      "name": "python3",
      "display_name": "Python 3"
    },
    "language_info": {
      "name": "python"
    }
  },
  "cells": [
    {
      "cell_type": "markdown",
      "metadata": {
        "id": "view-in-github",
        "colab_type": "text"
      },
      "source": [
        "<a href=\"https://colab.research.google.com/github/ruttdesai/Image-Classification/blob/main/Image_Classification.ipynb\" target=\"_parent\"><img src=\"https://colab.research.google.com/assets/colab-badge.svg\" alt=\"Open In Colab\"/></a>"
      ]
    },
    {
      "cell_type": "code",
      "metadata": {
        "id": "fwgKg8qxyUK9"
      },
      "source": [
        "# Steps:\n",
        "#   1. Data Scraping\n",
        "#   2. Preprocessing\n",
        "#   3. Splitting the data into Training dataset and Testng Dataset\n",
        "#   4. Training the model\n",
        "#   5. Predicting the values\n",
        "#   6. Checking the accuracy score\n",
        "#   7. Testing a new image"
      ],
      "execution_count": 103,
      "outputs": []
    },
    {
      "cell_type": "code",
      "metadata": {
        "id": "ZFUOdom_LLrU"
      },
      "source": [
        "# To delete a folder along with its contents\n",
        "#import shutil\n",
        "#\n",
        "#dir_path = '/content/images'\n",
        "#\n",
        "#try:\n",
        "#    shutil.rmtree(dir_path)\n",
        "#except OSError as e:\n",
        "#    print(\"Error: %s : %s\" % (dir_path, e.strerror))"
      ],
      "execution_count": 104,
      "outputs": []
    },
    {
      "cell_type": "code",
      "metadata": {
        "colab": {
          "base_uri": "https://localhost:8080/"
        },
        "id": "q3ybTcSc9qf2",
        "outputId": "dc3940f0-9844-46c0-c08b-528a6d209f31"
      },
      "source": [
        "# Step 1: Data Scraping\n",
        "\n",
        "!pip install bing-image-downloader # Installing the bing image downloader for bulk downloading\n",
        "!mkdir images # make a directory called 'images'\n",
        "from bing_image_downloader import downloader\n",
        "downloader.download(\"Parrots\",limit=30,output_dir='images') #Search key 1 is \"Elephant images\"\n",
        "#Giving the search key to the downloader and setting the limit to 50 images. Giving the destination as 'images folder'\n",
        "\n",
        "downloader.download(\"Tigers\",limit=30,output_dir='images')  #Search key 2 is \"Tiger images\""
      ],
      "execution_count": 105,
      "outputs": [
        {
          "output_type": "stream",
          "text": [
            "Requirement already satisfied: bing-image-downloader in /usr/local/lib/python3.7/dist-packages (1.0.4)\n",
            "mkdir: cannot create directory ‘images’: File exists\n",
            "\n",
            "\n",
            "[!!]Indexing page: 1\n",
            "\n",
            "[%] Indexed 12 Images on Page 1.\n",
            "\n",
            "===============================================\n",
            "\n",
            "[%] Downloading Image #1 from https://www.wallpapers13.com/wp-content/uploads/2016/07/Birds-blue-yellow-parrots-butterfly-tree-with-yellow-flowers-and-green-leaves-beautiful-HD-Desktop-Wallpaper-1600x1200.jpg\n",
            "[%] File Downloaded !\n",
            "\n",
            "[%] Downloading Image #2 from https://www.hdwallpapers.in/download/cat_deep_sea_green_eyes_4k_hd-1280x720.jpg\n",
            "[%] File Downloaded !\n",
            "\n",
            "[%] Downloading Image #3 from https://cdn.instructables.com/ORIG/F2N/Z59L/GQB4XT39/F2NZ59LGQB4XT39.jpg?width=500\n",
            "[%] File Downloaded !\n",
            "\n",
            "[%] Downloading Image #4 from http://auchterphotography.com/wp-content/uploads/2013/11/Tropical-Birds-4734.jpg\n",
            "[Error]Invalid image, not saving http://auchterphotography.com/wp-content/uploads/2013/11/Tropical-Birds-4734.jpg\n",
            "\n",
            "[!] Issue getting: http://auchterphotography.com/wp-content/uploads/2013/11/Tropical-Birds-4734.jpg\n",
            "[!] Error:: No active exception to reraise\n",
            "[%] Downloading Image #4 from http://les-animaux-du-monde.wifeo.com/images/p/per/Perroquet-Noir..jpg\n",
            "[%] File Downloaded !\n",
            "\n",
            "[%] Downloading Image #5 from http://www.wallpapers13.com/wp-content/uploads/2016/04/Eagle-flying-HD-wallpaper-for-Desktop-739-1024x768.jpg\n",
            "[%] File Downloaded !\n",
            "\n",
            "[%] Downloading Image #6 from https://weneedfun.com/wp-content/uploads/2016/06/Quaker-Parrot-14.jpg\n",
            "[%] File Downloaded !\n",
            "\n",
            "[%] Downloading Image #7 from http://make-it-your-own.com/wp-content/uploads/2017/04/MagazineMosaics.jpg\n",
            "[%] File Downloaded !\n",
            "\n",
            "[%] Downloading Image #8 from https://weneedfun.com/wp-content/uploads/2016/06/Talking-Birds-8.jpg\n",
            "[%] File Downloaded !\n",
            "\n",
            "[%] Downloading Image #9 from https://i.pinimg.com/736x/e1/8f/6f/e18f6ff72121e7ff5cf2cf368c5c87e3--macaw-cage-cages-for-sale.jpg\n",
            "[%] File Downloaded !\n",
            "\n",
            "[%] Downloading Image #10 from https://img.pngio.com/wedding-background-frame-background-happy-birthday-birthday-elegant-birthday-borders-png-820_1188.png\n",
            "[%] File Downloaded !\n",
            "\n",
            "[%] Downloading Image #11 from https://www.animals-zone.com/wp-content/uploads/2014/02/6.jpg\n",
            "[%] File Downloaded !\n",
            "\n",
            "\n",
            "\n",
            "[!!]Indexing page: 2\n",
            "\n",
            "[%] Indexed 12 Images on Page 2.\n",
            "\n",
            "===============================================\n",
            "\n",
            "[%] Downloading Image #12 from https://www.wallpapers13.com/wp-content/uploads/2016/07/Birds-blue-yellow-parrots-butterfly-tree-with-yellow-flowers-and-green-leaves-beautiful-HD-Desktop-Wallpaper-1600x1200.jpg\n",
            "[%] File Downloaded !\n",
            "\n",
            "[%] Downloading Image #13 from http://les-animaux-du-monde.wifeo.com/images/p/per/Perroquet-Noir..jpg\n",
            "[%] File Downloaded !\n",
            "\n",
            "[%] Downloading Image #14 from http://auchterphotography.com/wp-content/uploads/2013/11/Tropical-Birds-4734.jpg\n",
            "[Error]Invalid image, not saving http://auchterphotography.com/wp-content/uploads/2013/11/Tropical-Birds-4734.jpg\n",
            "\n",
            "[!] Issue getting: http://auchterphotography.com/wp-content/uploads/2013/11/Tropical-Birds-4734.jpg\n",
            "[!] Error:: No active exception to reraise\n",
            "[%] Downloading Image #14 from http://www.wallpapers13.com/wp-content/uploads/2016/04/Eagle-flying-HD-wallpaper-for-Desktop-739-1024x768.jpg\n",
            "[%] File Downloaded !\n",
            "\n",
            "[%] Downloading Image #15 from https://weneedfun.com/wp-content/uploads/2016/06/Quaker-Parrot-14.jpg\n",
            "[%] File Downloaded !\n",
            "\n",
            "[%] Downloading Image #16 from http://make-it-your-own.com/wp-content/uploads/2017/04/MagazineMosaics.jpg\n",
            "[%] File Downloaded !\n",
            "\n",
            "[%] Downloading Image #17 from https://weneedfun.com/wp-content/uploads/2016/06/Talking-Birds-8.jpg\n",
            "[%] File Downloaded !\n",
            "\n",
            "[%] Downloading Image #18 from https://i.pinimg.com/736x/e1/8f/6f/e18f6ff72121e7ff5cf2cf368c5c87e3--macaw-cage-cages-for-sale.jpg\n",
            "[%] File Downloaded !\n",
            "\n",
            "[%] Downloading Image #19 from https://cdn.instructables.com/ORIG/F2N/Z59L/GQB4XT39/F2NZ59LGQB4XT39.jpg?width=500\n",
            "[%] File Downloaded !\n",
            "\n",
            "[%] Downloading Image #20 from https://www.animals-zone.com/wp-content/uploads/2014/02/6.jpg\n",
            "[%] File Downloaded !\n",
            "\n",
            "[%] Downloading Image #21 from https://www.hdwallpapers.in/download/cat_deep_sea_green_eyes_4k_hd-1280x720.jpg\n",
            "[%] File Downloaded !\n",
            "\n",
            "[%] Downloading Image #22 from https://img.pngio.com/wedding-background-frame-background-happy-birthday-birthday-elegant-birthday-borders-png-820_1188.png\n",
            "[%] File Downloaded !\n",
            "\n",
            "\n",
            "\n",
            "[!!]Indexing page: 3\n",
            "\n",
            "[%] Indexed 11 Images on Page 3.\n",
            "\n",
            "===============================================\n",
            "\n",
            "[%] Downloading Image #23 from http://auchterphotography.com/wp-content/uploads/2013/11/Tropical-Birds-4734.jpg\n",
            "[Error]Invalid image, not saving http://auchterphotography.com/wp-content/uploads/2013/11/Tropical-Birds-4734.jpg\n",
            "\n",
            "[!] Issue getting: http://auchterphotography.com/wp-content/uploads/2013/11/Tropical-Birds-4734.jpg\n",
            "[!] Error:: No active exception to reraise\n",
            "[%] Downloading Image #23 from http://les-animaux-du-monde.wifeo.com/images/p/per/Perroquet-Noir..jpg\n",
            "[%] File Downloaded !\n",
            "\n",
            "[%] Downloading Image #24 from https://weneedfun.com/wp-content/uploads/2016/06/Quaker-Parrot-14.jpg\n",
            "[%] File Downloaded !\n",
            "\n",
            "[%] Downloading Image #25 from http://www.wallpapers13.com/wp-content/uploads/2016/04/Eagle-flying-HD-wallpaper-for-Desktop-739-1024x768.jpg\n",
            "[%] File Downloaded !\n",
            "\n",
            "[%] Downloading Image #26 from https://weneedfun.com/wp-content/uploads/2016/06/Talking-Birds-8.jpg\n",
            "[%] File Downloaded !\n",
            "\n",
            "[%] Downloading Image #27 from http://make-it-your-own.com/wp-content/uploads/2017/04/MagazineMosaics.jpg\n",
            "[%] File Downloaded !\n",
            "\n",
            "[%] Downloading Image #28 from https://www.animals-zone.com/wp-content/uploads/2014/02/6.jpg\n",
            "[%] File Downloaded !\n",
            "\n",
            "[%] Downloading Image #29 from https://cdn.instructables.com/ORIG/F2N/Z59L/GQB4XT39/F2NZ59LGQB4XT39.jpg?width=500\n",
            "[%] File Downloaded !\n",
            "\n",
            "[%] Downloading Image #30 from https://i.pinimg.com/736x/e1/8f/6f/e18f6ff72121e7ff5cf2cf368c5c87e3--macaw-cage-cages-for-sale.jpg\n",
            "[%] File Downloaded !\n",
            "\n",
            "\n",
            "\n",
            "[%] Done. Downloaded 30 images.\n",
            "\n",
            "===============================================\n",
            "\n",
            "\n",
            "\n",
            "[!!]Indexing page: 1\n",
            "\n",
            "[%] Indexed 12 Images on Page 1.\n",
            "\n",
            "===============================================\n",
            "\n",
            "[%] Downloading Image #1 from http://www.hdwallpapers.in/download/white_bengal_tigers_widescreen-1280x800.jpg\n",
            "[%] File Downloaded !\n",
            "\n",
            "[%] Downloading Image #2 from https://dehayf5mhw1h7.cloudfront.net/wp-content/uploads/sites/995/2020/01/14133331/king-cake-baby-clemon-mascot-meme.png\n",
            "[%] File Downloaded !\n",
            "\n",
            "[%] Downloading Image #3 from https://www.hdwallpapers.in/download/white_wolfs_hd_animals-1366x768.jpg\n",
            "[%] File Downloaded !\n",
            "\n",
            "[%] Downloading Image #4 from https://www.oldbookillustrations.com/wp-content/high-res/1893/tigers-1600.jpg\n",
            "[%] File Downloaded !\n",
            "\n",
            "[%] Downloading Image #5 from http://armytigers.com/sites/default/files/imagecache/explore_carousel_image/events/george2.jpg\n",
            "[%] File Downloaded !\n",
            "\n",
            "[%] Downloading Image #6 from https://www.thestar.com/content/dam/thestar/news/world/2009/04/22/life_and_times_of_the_tamil_tigers_elusive_leader/life_and_times_of_the_tigers_elusiveleader.jpeg\n",
            "[%] File Downloaded !\n",
            "\n",
            "[%] Downloading Image #7 from http://tierdoku.com/images/thumb/250px-Tiger8.jpg\n",
            "[%] File Downloaded !\n",
            "\n",
            "[%] Downloading Image #8 from http://tierdoku.com/images/thumb/250px-Tiger21.jpg\n",
            "[%] File Downloaded !\n",
            "\n",
            "[%] Downloading Image #9 from https://www.wildcatsanctuary.org/wp-content/uploads/2011/03/meme.jpg\n",
            "[%] File Downloaded !\n",
            "\n",
            "[%] Downloading Image #10 from https://www.hdwallpapers.in/download/tiger_in_zoo-1080x1920.jpg\n",
            "[%] File Downloaded !\n",
            "\n",
            "[%] Downloading Image #11 from https://www.hdwallpapers.in/download/wild_tiger-1920x1080.jpg\n",
            "[%] File Downloaded !\n",
            "\n",
            "[%] Downloading Image #12 from https://www.cbc.ca/kidsnews/content/_card_resize/AnimalBattle_giraffeVStigers_thumbnail1.jpg\n",
            "[%] File Downloaded !\n",
            "\n",
            "\n",
            "\n",
            "[!!]Indexing page: 2\n",
            "\n",
            "[%] Indexed 12 Images on Page 2.\n",
            "\n",
            "===============================================\n",
            "\n",
            "[%] Downloading Image #13 from http://1.bp.blogspot.com/_qGI6Uqr8pYA/TP8Wz_p6WpI/AAAAAAAAADY/tFCBYV4685Y/s1600/white-tiger-0003.jpg\n",
            "[%] File Downloaded !\n",
            "\n",
            "[%] Downloading Image #14 from http://4.bp.blogspot.com/_qGI6Uqr8pYA/TP8W06ncOjI/AAAAAAAAADg/CZVja5rIh_M/s1600/white-tiger-11.jpg\n",
            "[%] File Downloaded !\n",
            "\n",
            "[%] Downloading Image #15 from https://www.babyanimalzoo.com/wp-content/uploads/2011/12/tiger-cub-triplets-born-in-sydney-zoo.jpg\n",
            "[%] File Downloaded !\n",
            "\n",
            "[%] Downloading Image #16 from http://www.pxleyes.com/images/contests/tigers-td/fullsize/THe-Eye-of-the-Tiger-4d640eef4a846.jpg\n",
            "[%] File Downloaded !\n",
            "\n",
            "[%] Downloading Image #17 from http://www.hdwallpapers.in/download/tiger_in_snow-1920x1080.jpg\n",
            "[%] File Downloaded !\n",
            "\n",
            "[%] Downloading Image #18 from https://www.hdwallpapers.in/download/white_tiger_beautiful-1280x800.jpg\n",
            "[%] File Downloaded !\n",
            "\n",
            "[%] Downloading Image #19 from https://www.hdwallpapers.in/download/sumatran_tiger_in_zoo_4k-1920x1080.jpg\n",
            "[%] File Downloaded !\n",
            "\n",
            "[%] Downloading Image #20 from https://www.desktopbackground.org/download/540x960/2015/05/25/953748_animal-wallpaper-black-and-white-tiger-wallpapers-iphone-hd_1600x1200_h.jpg\n",
            "[%] File Downloaded !\n",
            "\n",
            "[%] Downloading Image #21 from http://tranquilmonkey.com/wp-content/uploads/2017/02/majestic-bengal-cat-thor-5.jpg\n",
            "[%] File Downloaded !\n",
            "\n",
            "[%] Downloading Image #22 from http://angeliquegrimm.com/wp-content/uploads/2017/06/tiger-tattoo-by-angelique-grimm-forarm-1-834x1024.jpg\n",
            "[%] File Downloaded !\n",
            "\n",
            "[%] Downloading Image #23 from https://www.hdwallpapers.in/download/jaguar_in_amazon_rainforest-1920x1080.jpg\n",
            "[%] File Downloaded !\n",
            "\n",
            "[%] Downloading Image #24 from http://www.hdwallpapers.in/download/snow_blue_eye_leopard-1440x900.jpg\n",
            "[%] File Downloaded !\n",
            "\n",
            "\n",
            "\n",
            "[!!]Indexing page: 3\n",
            "\n",
            "[%] Indexed 11 Images on Page 3.\n",
            "\n",
            "===============================================\n",
            "\n",
            "[%] Downloading Image #25 from http://4.bp.blogspot.com/_qGI6Uqr8pYA/TP8W06ncOjI/AAAAAAAAADg/CZVja5rIh_M/s1600/white-tiger-11.jpg\n",
            "[%] File Downloaded !\n",
            "\n",
            "[%] Downloading Image #26 from https://www.babyanimalzoo.com/wp-content/uploads/2011/12/tiger-cub-triplets-born-in-sydney-zoo.jpg\n",
            "[%] File Downloaded !\n",
            "\n",
            "[%] Downloading Image #27 from http://www.pxleyes.com/images/contests/tigers-td/fullsize/THe-Eye-of-the-Tiger-4d640eef4a846.jpg\n",
            "[%] File Downloaded !\n",
            "\n",
            "[%] Downloading Image #28 from http://www.hdwallpapers.in/download/tiger_in_snow-1920x1080.jpg\n",
            "[%] File Downloaded !\n",
            "\n",
            "[%] Downloading Image #29 from https://www.hdwallpapers.in/download/white_tiger_beautiful-1280x800.jpg\n",
            "[%] File Downloaded !\n",
            "\n",
            "[%] Downloading Image #30 from https://www.hdwallpapers.in/download/sumatran_tiger_in_zoo_4k-1920x1080.jpg\n",
            "[%] File Downloaded !\n",
            "\n",
            "\n",
            "\n",
            "[%] Done. Downloaded 30 images.\n",
            "\n",
            "===============================================\n",
            "\n"
          ],
          "name": "stdout"
        }
      ]
    },
    {
      "cell_type": "code",
      "metadata": {
        "id": "-twnB506Df0v"
      },
      "source": [
        "# Step 2: Preprocessing\n",
        "#         1.Resize\n",
        "#         2.Flattening\n",
        "\n",
        "import os\n",
        "import matplotlib.pyplot as plt\n",
        "import numpy as np\n",
        "from skimage.io import imread\n",
        "from skimage.transform import resize\n",
        "\n",
        "target = []\n",
        "images = []\n",
        "flat_data = []\n",
        "\n",
        "DATADIR = \"/content/images\"\n",
        "CATEGORIES = ['Parrots','Tigers']\n",
        "\n",
        "for category in CATEGORIES:\n",
        "  class_num = CATEGORIES.index(category) # Label Encoding the values\n",
        "  path = os.path.join(DATADIR,category) # Iterating through each category path\n",
        "  for img in os.listdir(path): #for loop for going into each folder and iterating every image\n",
        "    img_arr = imread(os.path.join(path,img)) # reading every image\n",
        "    img_resized = resize(img_arr,(100,100,3)) # resizing every image (It normalizes automatically)\n",
        "    flat_data.append(img_resized.flatten()) # flattening every image (Converting 2d image into 1d)\n",
        "    images.append(img_resized) # appending the images into image array\n",
        "    target.append(class_num)\n",
        "flat_data = np.array(flat_data) # converting the flattened data array into numpy array\n",
        "target = np.array(target) # Converting the target data array into numpy array\n",
        "images = np.array(images) # conveting the images data array into numpy array"
      ],
      "execution_count": 106,
      "outputs": []
    },
    {
      "cell_type": "code",
      "metadata": {
        "colab": {
          "base_uri": "https://localhost:8080/",
          "height": 282
        },
        "id": "Nf1PwHymbyjT",
        "outputId": "1a221094-2df2-4ec7-a047-4bc0e22e8aea"
      },
      "source": [
        "unique,count = np.unique(target,return_counts=True)\n",
        "plt.bar(CATEGORIES,count)"
      ],
      "execution_count": 107,
      "outputs": [
        {
          "output_type": "execute_result",
          "data": {
            "text/plain": [
              "<BarContainer object of 2 artists>"
            ]
          },
          "metadata": {
            "tags": []
          },
          "execution_count": 107
        },
        {
          "output_type": "display_data",
          "data": {
            "image/png": "[encoded data removed]",
            "text/plain": [
              "<Figure size 432x288 with 1 Axes>"
            ]
          },
          "metadata": {
            "tags": [],
            "needs_background": "light"
          }
        }
      ]
    },
    {
      "cell_type": "code",
      "metadata": {
        "id": "6mE6xNUqdYQF"
      },
      "source": [
        "# Step 3: Splitting the Data into Training Dataset and Testing Dataset\n",
        "\n",
        "from sklearn.model_selection import train_test_split\n",
        "x_train,x_test,y_train,y_test = train_test_split(flat_data,target,test_size=0.3,random_state=42)"
      ],
      "execution_count": 108,
      "outputs": []
    },
    {
      "cell_type": "code",
      "metadata": {
        "colab": {
          "base_uri": "https://localhost:8080/"
        },
        "id": "128GG93HeouN",
        "outputId": "8601e12d-f4a8-4047-b26b-4ddc2923e936"
      },
      "source": [
        "# Step 4: Training the model\n",
        "from sklearn.model_selection import GridSearchCV\n",
        "from sklearn import svm\n",
        "param_grid = [\n",
        "              {\n",
        "                'C':[1,10,100,1000],\n",
        "                'kernel':['linear']\n",
        "              },\n",
        "              {\n",
        "                  'C':[1,10,100,1000],\n",
        "                  'gamma':[0.001,0.0001],\n",
        "                  'kernel':['rbf']\n",
        "              }\n",
        "]\n",
        "svc = svm.SVC(probability=True)\n",
        "clf = GridSearchCV(svc,param_grid)\n",
        "clf.fit(x_train,y_train)"
      ],
      "execution_count": 109,
      "outputs": [
        {
          "output_type": "execute_result",
          "data": {
            "text/plain": [
              "GridSearchCV(cv=None, error_score=nan,\n",
              "             estimator=SVC(C=1.0, break_ties=False, cache_size=200,\n",
              "                           class_weight=None, coef0=0.0,\n",
              "                           decision_function_shape='ovr', degree=3,\n",
              "                           gamma='scale', kernel='rbf', max_iter=-1,\n",
              "                           probability=True, random_state=None, shrinking=True,\n",
              "                           tol=0.001, verbose=False),\n",
              "             iid='deprecated', n_jobs=None,\n",
              "             param_grid=[{'C': [1, 10, 100, 1000], 'kernel': ['linear']},\n",
              "                         {'C': [1, 10, 100, 1000], 'gamma': [0.001, 0.0001],\n",
              "                          'kernel': ['rbf']}],\n",
              "             pre_dispatch='2*n_jobs', refit=True, return_train_score=False,\n",
              "             scoring=None, verbose=0)"
            ]
          },
          "metadata": {
            "tags": []
          },
          "execution_count": 109
        }
      ]
    },
    {
      "cell_type": "code",
      "metadata": {
        "colab": {
          "base_uri": "https://localhost:8080/"
        },
        "id": "z6m9L41siMp_",
        "outputId": "d30f0aa4-ac6e-4345-e874-3be461700957"
      },
      "source": [
        "# Step 5: Predicting the values\n",
        "y_pred = clf.predict(x_test)\n",
        "y_pred"
      ],
      "execution_count": 110,
      "outputs": [
        {
          "output_type": "execute_result",
          "data": {
            "text/plain": [
              "array([1, 1, 0, 1, 0, 1, 0, 0, 0, 1, 1, 0, 1, 0, 1, 1, 0, 0, 1])"
            ]
          },
          "metadata": {
            "tags": []
          },
          "execution_count": 110
        }
      ]
    },
    {
      "cell_type": "code",
      "metadata": {
        "colab": {
          "base_uri": "https://localhost:8080/"
        },
        "id": "Lk1lk745iUp7",
        "outputId": "825bdbde-11fe-4099-a3b8-36b7e1860f70"
      },
      "source": [
        "y_test"
      ],
      "execution_count": 111,
      "outputs": [
        {
          "output_type": "execute_result",
          "data": {
            "text/plain": [
              "array([1, 1, 0, 1, 0, 1, 0, 0, 0, 1, 1, 0, 1, 0, 1, 1, 0, 0, 1])"
            ]
          },
          "metadata": {
            "tags": []
          },
          "execution_count": 111
        }
      ]
    },
    {
      "cell_type": "code",
      "metadata": {
        "colab": {
          "base_uri": "https://localhost:8080/"
        },
        "id": "CPNIuj4hiZP7",
        "outputId": "79c96ea8-d4cb-41f5-a00d-4d5733acfda3"
      },
      "source": [
        "# Step 6: Checking the accuracy score\n",
        "from sklearn.metrics import accuracy_score,confusion_matrix\n",
        "accuracy_score(y_pred,y_test)"
      ],
      "execution_count": 112,
      "outputs": [
        {
          "output_type": "execute_result",
          "data": {
            "text/plain": [
              "1.0"
            ]
          },
          "metadata": {
            "tags": []
          },
          "execution_count": 112
        }
      ]
    },
    {
      "cell_type": "code",
      "metadata": {
        "colab": {
          "base_uri": "https://localhost:8080/"
        },
        "id": "cQYDwW7_iskq",
        "outputId": "a2279d1b-a664-47e8-a640-b9d9915e90ca"
      },
      "source": [
        "confusion_matrix(y_pred,y_test)"
      ],
      "execution_count": 113,
      "outputs": [
        {
          "output_type": "execute_result",
          "data": {
            "text/plain": [
              "array([[ 9,  0],\n",
              "       [ 0, 10]])"
            ]
          },
          "metadata": {
            "tags": []
          },
          "execution_count": 113
        }
      ]
    },
    {
      "cell_type": "code",
      "metadata": {
        "id": "61fWhCLjnqu_"
      },
      "source": [
        "#import pickle\n",
        "#pickle.dump(clf,open('img_class_model.p','wb'))"
      ],
      "execution_count": 114,
      "outputs": []
    },
    {
      "cell_type": "code",
      "metadata": {
        "colab": {
          "base_uri": "https://localhost:8080/",
          "height": 340
        },
        "id": "QUqr6V7mixx6",
        "outputId": "b438ec08-41f2-414a-b9fb-2140d7034921"
      },
      "source": [
        "# Step 7: Testing a new image\n",
        "\n",
        "#model = pickle.load(open('img_class_model.p','rb'))\n",
        "flat_data = []\n",
        "url = input(\"Enter your image url: \")\n",
        "img = imread(url) \n",
        "img_resized = resize(img,(100,100,3))\n",
        "flat_data.append(img_resized.flatten())\n",
        "flat_data = np.array(flat_data)\n",
        "print(img.shape)\n",
        "plt.imshow(img_resized)\n",
        "y_out = clf.predict(flat_data)\n",
        "y_out = CATEGORIES[y_out[0]]\n",
        "print(f'PREDICTED OUTPUT: {y_out}')"
      ],
      "execution_count": 115,
      "outputs": [
        {
          "output_type": "stream",
          "text": [
            "Enter your image url: https://encrypted-tbn0.gstatic.com/images?q=tbn:ANd9GcTGKvDQlyCamYZF4KaZd_Dx6c-IEx6YGE2V5Q&usqp=CAU\n",
            "(194, 260, 3)\n",
            "PREDICTED OUTPUT: Tigers\n"
          ],
          "name": "stdout"
        },
        {
          "output_type": "display_data",
          "data": {
            "image/png": "[encoded data removed]",
            "text/plain": [
              "<Figure size 432x288 with 1 Axes>"
            ]
          },
          "metadata": {
            "tags": [],
            "needs_background": "light"
          }
        }
      ]
    }
  ]
}