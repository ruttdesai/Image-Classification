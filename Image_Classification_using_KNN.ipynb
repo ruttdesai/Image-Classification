{
  "nbformat": 4,
  "nbformat_minor": 0,
  "metadata": {
    "colab": {
      "name": "Image Classification using KNN.ipynb",
      "provenance": [],
      "collapsed_sections": [],
      "authorship_tag": "ABX9TyOby8MS5WbJDJkGmsnmAtDz",
      "include_colab_link": true
    },
    "kernelspec": {
      "name": "python3",
      "display_name": "Python 3"
    },
    "language_info": {
      "name": "python"
    }
  },
  "cells": [
    {
      "cell_type": "markdown",
      "metadata": {
        "id": "view-in-github",
        "colab_type": "text"
      },
      "source": [
        "<a href=\"https://colab.research.google.com/github/ruttdesai/Image-Classification/blob/main/Image_Classification_using_KNN.ipynb\" target=\"_parent\"><img src=\"https://colab.research.google.com/assets/colab-badge.svg\" alt=\"Open In Colab\"/></a>"
      ]
    },
    {
      "cell_type": "code",
      "metadata": {
        "id": "fwgKg8qxyUK9"
      },
      "source": [
        "# Steps:\n",
        "#   1. Data Scraping\n",
        "#   2. Preprocessing\n",
        "#   3. Splitting the data into Training dataset and Testng Dataset\n",
        "#   4. Training the model\n",
        "#   5. Predicting the values\n",
        "#   6. Checking the accuracy score\n",
        "#   7. Testing a new image"
      ],
      "execution_count": 3,
      "outputs": []
    },
    {
      "cell_type": "code",
      "metadata": {
        "id": "ZFUOdom_LLrU"
      },
      "source": [
        "# To delete a folder along with its contents\n",
        "#import shutil\n",
        "#\n",
        "#dir_path = '/content/images'\n",
        "#\n",
        "#try:\n",
        "#    shutil.rmtree(dir_path)\n",
        "#except OSError as e:\n",
        "#    print(\"Error: %s : %s\" % (dir_path, e.strerror))"
      ],
      "execution_count": 4,
      "outputs": []
    },
    {
      "cell_type": "code",
      "metadata": {
        "colab": {
          "base_uri": "https://localhost:8080/"
        },
        "id": "q3ybTcSc9qf2",
        "outputId": "3272ba1f-60d7-4293-d78a-7dee7d2ed866"
      },
      "source": [
        "# Step 1: Data Scraping\n",
        "\n",
        "!pip install bing-image-downloader # Installing the bing image downloader for bulk downloading\n",
        "!mkdir images # make a directory called 'images'\n",
        "from bing_image_downloader import downloader\n",
        "downloader.download(\"Parrots\",limit=30,output_dir='images') #Search key 1 is \"Elephant images\"\n",
        "#Giving the search key to the downloader and setting the limit to 50 images. Giving the destination as 'images folder'\n",
        "\n",
        "downloader.download(\"Tigers\",limit=30,output_dir='images')  #Search key 2 is \"Tiger images\""
      ],
      "execution_count": 5,
      "outputs": [
        {
          "output_type": "stream",
          "text": [
            "Requirement already satisfied: bing-image-downloader in /usr/local/lib/python3.7/dist-packages (1.0.4)\n",
            "mkdir: cannot create directory ‘images’: File exists\n",
            "\n",
            "\n",
            "[!!]Indexing page: 1\n",
            "\n",
            "[%] Indexed 12 Images on Page 1.\n",
            "\n",
            "===============================================\n",
            "\n",
            "[%] Downloading Image #1 from https://www.wallpapers13.com/wp-content/uploads/2016/07/Birds-blue-yellow-parrots-butterfly-tree-with-yellow-flowers-and-green-leaves-beautiful-HD-Desktop-Wallpaper-1600x1200.jpg\n",
            "[%] File Downloaded !\n",
            "\n",
            "[%] Downloading Image #2 from http://les-animaux-du-monde.wifeo.com/images/p/per/Perroquet-Noir..jpg\n",
            "[%] File Downloaded !\n",
            "\n",
            "[%] Downloading Image #3 from http://auchterphotography.com/wp-content/uploads/2013/11/Tropical-Birds-4734.jpg\n",
            "[Error]Invalid image, not saving http://auchterphotography.com/wp-content/uploads/2013/11/Tropical-Birds-4734.jpg\n",
            "\n",
            "[!] Issue getting: http://auchterphotography.com/wp-content/uploads/2013/11/Tropical-Birds-4734.jpg\n",
            "[!] Error:: No active exception to reraise\n",
            "[%] Downloading Image #3 from http://www.wallpapers13.com/wp-content/uploads/2016/04/Eagle-flying-HD-wallpaper-for-Desktop-739-1024x768.jpg\n",
            "[%] File Downloaded !\n",
            "\n",
            "[%] Downloading Image #4 from https://weneedfun.com/wp-content/uploads/2016/06/Quaker-Parrot-14.jpg\n",
            "[%] File Downloaded !\n",
            "\n",
            "[%] Downloading Image #5 from http://make-it-your-own.com/wp-content/uploads/2017/04/MagazineMosaics.jpg\n",
            "[%] File Downloaded !\n",
            "\n",
            "[%] Downloading Image #6 from https://weneedfun.com/wp-content/uploads/2016/06/Talking-Birds-8.jpg\n",
            "[%] File Downloaded !\n",
            "\n",
            "[%] Downloading Image #7 from https://i.pinimg.com/736x/e1/8f/6f/e18f6ff72121e7ff5cf2cf368c5c87e3--macaw-cage-cages-for-sale.jpg\n",
            "[%] File Downloaded !\n",
            "\n",
            "[%] Downloading Image #8 from https://cdn.instructables.com/ORIG/F2N/Z59L/GQB4XT39/F2NZ59LGQB4XT39.jpg?width=500\n",
            "[%] File Downloaded !\n",
            "\n",
            "[%] Downloading Image #9 from https://www.animals-zone.com/wp-content/uploads/2014/02/6.jpg\n",
            "[%] File Downloaded !\n",
            "\n",
            "[%] Downloading Image #10 from https://www.hdwallpapers.in/download/cat_deep_sea_green_eyes_4k_hd-1280x720.jpg\n",
            "[%] File Downloaded !\n",
            "\n",
            "[%] Downloading Image #11 from https://img.pngio.com/wedding-background-frame-background-happy-birthday-birthday-elegant-birthday-borders-png-820_1188.png\n",
            "[%] File Downloaded !\n",
            "\n",
            "\n",
            "\n",
            "[!!]Indexing page: 2\n",
            "\n",
            "[%] Indexed 12 Images on Page 2.\n",
            "\n",
            "===============================================\n",
            "\n",
            "[%] Downloading Image #12 from https://www.wallpapers13.com/wp-content/uploads/2016/07/Birds-blue-yellow-parrots-butterfly-tree-with-yellow-flowers-and-green-leaves-beautiful-HD-Desktop-Wallpaper-1600x1200.jpg\n",
            "[%] File Downloaded !\n",
            "\n",
            "[%] Downloading Image #13 from http://les-animaux-du-monde.wifeo.com/images/p/per/Perroquet-Noir..jpg\n",
            "[%] File Downloaded !\n",
            "\n",
            "[%] Downloading Image #14 from http://auchterphotography.com/wp-content/uploads/2013/11/Tropical-Birds-4734.jpg\n",
            "[Error]Invalid image, not saving http://auchterphotography.com/wp-content/uploads/2013/11/Tropical-Birds-4734.jpg\n",
            "\n",
            "[!] Issue getting: http://auchterphotography.com/wp-content/uploads/2013/11/Tropical-Birds-4734.jpg\n",
            "[!] Error:: No active exception to reraise\n",
            "[%] Downloading Image #14 from http://www.wallpapers13.com/wp-content/uploads/2016/04/Eagle-flying-HD-wallpaper-for-Desktop-739-1024x768.jpg\n",
            "[%] File Downloaded !\n",
            "\n",
            "[%] Downloading Image #15 from https://weneedfun.com/wp-content/uploads/2016/06/Quaker-Parrot-14.jpg\n",
            "[%] File Downloaded !\n",
            "\n",
            "[%] Downloading Image #16 from http://make-it-your-own.com/wp-content/uploads/2017/04/MagazineMosaics.jpg\n",
            "[%] File Downloaded !\n",
            "\n",
            "[%] Downloading Image #17 from https://weneedfun.com/wp-content/uploads/2016/06/Talking-Birds-8.jpg\n",
            "[%] File Downloaded !\n",
            "\n",
            "[%] Downloading Image #18 from https://i.pinimg.com/736x/e1/8f/6f/e18f6ff72121e7ff5cf2cf368c5c87e3--macaw-cage-cages-for-sale.jpg\n",
            "[%] File Downloaded !\n",
            "\n",
            "[%] Downloading Image #19 from https://cdn.instructables.com/ORIG/F2N/Z59L/GQB4XT39/F2NZ59LGQB4XT39.jpg?width=500\n",
            "[%] File Downloaded !\n",
            "\n",
            "[%] Downloading Image #20 from https://www.animals-zone.com/wp-content/uploads/2014/02/6.jpg\n",
            "[%] File Downloaded !\n",
            "\n",
            "[%] Downloading Image #21 from https://www.hdwallpapers.in/download/cat_deep_sea_green_eyes_4k_hd-1280x720.jpg\n",
            "[%] File Downloaded !\n",
            "\n",
            "[%] Downloading Image #22 from https://img.pngio.com/wedding-background-frame-background-happy-birthday-birthday-elegant-birthday-borders-png-820_1188.png\n",
            "[%] File Downloaded !\n",
            "\n",
            "\n",
            "\n",
            "[!!]Indexing page: 3\n",
            "\n",
            "[%] Indexed 11 Images on Page 3.\n",
            "\n",
            "===============================================\n",
            "\n",
            "[%] Downloading Image #23 from http://auchterphotography.com/wp-content/uploads/2013/11/Tropical-Birds-4734.jpg\n",
            "[Error]Invalid image, not saving http://auchterphotography.com/wp-content/uploads/2013/11/Tropical-Birds-4734.jpg\n",
            "\n",
            "[!] Issue getting: http://auchterphotography.com/wp-content/uploads/2013/11/Tropical-Birds-4734.jpg\n",
            "[!] Error:: No active exception to reraise\n",
            "[%] Downloading Image #23 from http://les-animaux-du-monde.wifeo.com/images/p/per/Perroquet-Noir..jpg\n",
            "[%] File Downloaded !\n",
            "\n",
            "[%] Downloading Image #24 from https://weneedfun.com/wp-content/uploads/2016/06/Quaker-Parrot-14.jpg\n",
            "[%] File Downloaded !\n",
            "\n",
            "[%] Downloading Image #25 from http://www.wallpapers13.com/wp-content/uploads/2016/04/Eagle-flying-HD-wallpaper-for-Desktop-739-1024x768.jpg\n",
            "[%] File Downloaded !\n",
            "\n",
            "[%] Downloading Image #26 from https://weneedfun.com/wp-content/uploads/2016/06/Talking-Birds-8.jpg\n",
            "[%] File Downloaded !\n",
            "\n",
            "[%] Downloading Image #27 from http://make-it-your-own.com/wp-content/uploads/2017/04/MagazineMosaics.jpg\n",
            "[%] File Downloaded !\n",
            "\n",
            "[%] Downloading Image #28 from https://www.animals-zone.com/wp-content/uploads/2014/02/6.jpg\n",
            "[%] File Downloaded !\n",
            "\n",
            "[%] Downloading Image #29 from https://cdn.instructables.com/ORIG/F2N/Z59L/GQB4XT39/F2NZ59LGQB4XT39.jpg?width=500\n",
            "[%] File Downloaded !\n",
            "\n",
            "[%] Downloading Image #30 from https://i.pinimg.com/736x/e1/8f/6f/e18f6ff72121e7ff5cf2cf368c5c87e3--macaw-cage-cages-for-sale.jpg\n",
            "[%] File Downloaded !\n",
            "\n",
            "\n",
            "\n",
            "[%] Done. Downloaded 30 images.\n",
            "\n",
            "===============================================\n",
            "\n",
            "\n",
            "\n",
            "[!!]Indexing page: 1\n",
            "\n",
            "[%] Indexed 12 Images on Page 1.\n",
            "\n",
            "===============================================\n",
            "\n",
            "[%] Downloading Image #1 from http://www.hdwallpapers.in/download/white_bengal_tigers_widescreen-1280x800.jpg\n",
            "[%] File Downloaded !\n",
            "\n",
            "[%] Downloading Image #2 from https://dehayf5mhw1h7.cloudfront.net/wp-content/uploads/sites/995/2020/01/14133331/king-cake-baby-clemon-mascot-meme.png\n",
            "[%] File Downloaded !\n",
            "\n",
            "[%] Downloading Image #3 from https://www.hdwallpapers.in/download/white_wolfs_hd_animals-1366x768.jpg\n",
            "[%] File Downloaded !\n",
            "\n",
            "[%] Downloading Image #4 from https://www.oldbookillustrations.com/wp-content/high-res/1893/tigers-1600.jpg\n",
            "[%] File Downloaded !\n",
            "\n",
            "[%] Downloading Image #5 from http://armytigers.com/sites/default/files/imagecache/explore_carousel_image/events/george2.jpg\n",
            "[%] File Downloaded !\n",
            "\n",
            "[%] Downloading Image #6 from https://www.thestar.com/content/dam/thestar/news/world/2009/04/22/life_and_times_of_the_tamil_tigers_elusive_leader/life_and_times_of_the_tigers_elusiveleader.jpeg\n",
            "[%] File Downloaded !\n",
            "\n",
            "[%] Downloading Image #7 from http://tierdoku.com/images/thumb/250px-Tiger8.jpg\n",
            "[%] File Downloaded !\n",
            "\n",
            "[%] Downloading Image #8 from http://tierdoku.com/images/thumb/250px-Tiger21.jpg\n",
            "[%] File Downloaded !\n",
            "\n",
            "[%] Downloading Image #9 from https://www.wildcatsanctuary.org/wp-content/uploads/2011/03/meme.jpg\n",
            "[%] File Downloaded !\n",
            "\n",
            "[%] Downloading Image #10 from https://www.hdwallpapers.in/download/tiger_in_zoo-1080x1920.jpg\n",
            "[%] File Downloaded !\n",
            "\n",
            "[%] Downloading Image #11 from https://www.hdwallpapers.in/download/wild_tiger-1920x1080.jpg\n",
            "[%] File Downloaded !\n",
            "\n",
            "[%] Downloading Image #12 from https://www.cbc.ca/kidsnews/content/_card_resize/AnimalBattle_giraffeVStigers_thumbnail1.jpg\n",
            "[%] File Downloaded !\n",
            "\n",
            "\n",
            "\n",
            "[!!]Indexing page: 2\n",
            "\n",
            "[%] Indexed 12 Images on Page 2.\n",
            "\n",
            "===============================================\n",
            "\n",
            "[%] Downloading Image #13 from http://www.hdwallpapers.in/download/white_bengal_tigers_widescreen-1280x800.jpg\n",
            "[%] File Downloaded !\n",
            "\n",
            "[%] Downloading Image #14 from https://dehayf5mhw1h7.cloudfront.net/wp-content/uploads/sites/995/2020/01/14133331/king-cake-baby-clemon-mascot-meme.png\n",
            "[%] File Downloaded !\n",
            "\n",
            "[%] Downloading Image #15 from http://tierdoku.com/images/thumb/250px-Tiger21.jpg\n",
            "[%] File Downloaded !\n",
            "\n",
            "[%] Downloading Image #16 from https://www.oldbookillustrations.com/wp-content/high-res/1893/tigers-1600.jpg\n",
            "[%] File Downloaded !\n",
            "\n",
            "[%] Downloading Image #17 from http://tierdoku.com/images/thumb/250px-Tiger8.jpg\n",
            "[%] File Downloaded !\n",
            "\n",
            "[%] Downloading Image #18 from https://www.hdwallpapers.in/download/white_wolfs_hd_animals-1366x768.jpg\n",
            "[%] File Downloaded !\n",
            "\n",
            "[%] Downloading Image #19 from https://www.thestar.com/content/dam/thestar/news/world/2009/04/22/life_and_times_of_the_tamil_tigers_elusive_leader/life_and_times_of_the_tigers_elusiveleader.jpeg\n",
            "[%] File Downloaded !\n",
            "\n",
            "[%] Downloading Image #20 from https://www.wildcatsanctuary.org/wp-content/uploads/2011/03/meme.jpg\n",
            "[%] File Downloaded !\n",
            "\n",
            "[%] Downloading Image #21 from https://www.hdwallpapers.in/download/tiger_in_zoo-1080x1920.jpg\n",
            "[%] File Downloaded !\n",
            "\n",
            "[%] Downloading Image #22 from https://www.hdwallpapers.in/download/wild_tiger-1920x1080.jpg\n",
            "[%] File Downloaded !\n",
            "\n",
            "[%] Downloading Image #23 from https://www.cbc.ca/kidsnews/content/_card_resize/AnimalBattle_giraffeVStigers_thumbnail1.jpg\n",
            "[%] File Downloaded !\n",
            "\n",
            "[%] Downloading Image #24 from http://armytigers.com/sites/default/files/imagecache/explore_carousel_image/events/george2.jpg\n",
            "[%] File Downloaded !\n",
            "\n",
            "\n",
            "\n",
            "[!!]Indexing page: 3\n",
            "\n",
            "[%] Indexed 11 Images on Page 3.\n",
            "\n",
            "===============================================\n",
            "\n",
            "[%] Downloading Image #25 from https://www.oldbookillustrations.com/wp-content/high-res/1893/tigers-1600.jpg\n",
            "[%] File Downloaded !\n",
            "\n",
            "[%] Downloading Image #26 from http://armytigers.com/sites/default/files/imagecache/explore_carousel_image/events/george2.jpg\n",
            "[%] File Downloaded !\n",
            "\n",
            "[%] Downloading Image #27 from https://www.thestar.com/content/dam/thestar/news/world/2009/04/22/life_and_times_of_the_tamil_tigers_elusive_leader/life_and_times_of_the_tigers_elusiveleader.jpeg\n",
            "[%] File Downloaded !\n",
            "\n",
            "[%] Downloading Image #28 from http://tierdoku.com/images/thumb/250px-Tiger8.jpg\n",
            "[%] File Downloaded !\n",
            "\n",
            "[%] Downloading Image #29 from https://www.wildcatsanctuary.org/wp-content/uploads/2011/03/meme.jpg\n",
            "[%] File Downloaded !\n",
            "\n",
            "[%] Downloading Image #30 from https://www.cbc.ca/kidsnews/content/_card_resize/AnimalBattle_giraffeVStigers_thumbnail1.jpg\n",
            "[%] File Downloaded !\n",
            "\n",
            "\n",
            "\n",
            "[%] Done. Downloaded 30 images.\n",
            "\n",
            "===============================================\n",
            "\n"
          ],
          "name": "stdout"
        }
      ]
    },
    {
      "cell_type": "code",
      "metadata": {
        "id": "-twnB506Df0v"
      },
      "source": [
        "# Step 2: Preprocessing\n",
        "#         1.Resize\n",
        "#         2.Flattening\n",
        "\n",
        "import os\n",
        "import matplotlib.pyplot as plt\n",
        "import numpy as np\n",
        "from skimage.io import imread\n",
        "from skimage.transform import resize\n",
        "\n",
        "target = []\n",
        "images = []\n",
        "flat_data = []\n",
        "\n",
        "DATADIR = \"/content/images\"\n",
        "CATEGORIES = ['Parrots','Tigers']\n",
        "\n",
        "for category in CATEGORIES:\n",
        "  class_num = CATEGORIES.index(category) # Label Encoding the values\n",
        "  path = os.path.join(DATADIR,category) # Iterating through each category path\n",
        "  for img in os.listdir(path): #for loop for going into each folder and iterating every image\n",
        "    img_arr = imread(os.path.join(path,img)) # reading every image\n",
        "    img_resized = resize(img_arr,(100,100,3)) # resizing every image (It normalizes automatically)\n",
        "    flat_data.append(img_resized.flatten()) # flattening every image (Converting 2d image into 1d)\n",
        "    images.append(img_resized) # appending the images into image array\n",
        "    target.append(class_num)\n",
        "flat_data = np.array(flat_data) # converting the flattened data array into numpy array\n",
        "target = np.array(target) # Converting the target data array into numpy array\n",
        "images = np.array(images) # conveting the images data array into numpy array"
      ],
      "execution_count": 6,
      "outputs": []
    },
    {
      "cell_type": "code",
      "metadata": {
        "colab": {
          "base_uri": "https://localhost:8080/",
          "height": 282
        },
        "id": "Nf1PwHymbyjT",
        "outputId": "993bea89-2c7f-40c3-8847-f98beed88afa"
      },
      "source": [
        "unique,count = np.unique(target,return_counts=True)\n",
        "plt.bar(CATEGORIES,count)"
      ],
      "execution_count": 7,
      "outputs": [
        {
          "output_type": "execute_result",
          "data": {
            "text/plain": [
              "<BarContainer object of 2 artists>"
            ]
          },
          "metadata": {
            "tags": []
          },
          "execution_count": 7
        },
        {
          "output_type": "display_data",
          "data": {
            "image/png": "[encoded data removed]",
            "text/plain": [
              "<Figure size 432x288 with 1 Axes>"
            ]
          },
          "metadata": {
            "tags": [],
            "needs_background": "light"
          }
        }
      ]
    },
    {
      "cell_type": "code",
      "metadata": {
        "id": "6mE6xNUqdYQF"
      },
      "source": [
        "# Step 3: Splitting the Data into Training Dataset and Testing Dataset\n",
        "\n",
        "from sklearn.model_selection import train_test_split\n",
        "x_train,x_test,y_train,y_test = train_test_split(flat_data,target,test_size=0.3,random_state=42)"
      ],
      "execution_count": 8,
      "outputs": []
    },
    {
      "cell_type": "code",
      "metadata": {
        "colab": {
          "base_uri": "https://localhost:8080/"
        },
        "id": "128GG93HeouN",
        "outputId": "55f78124-9078-42fc-d2d1-c5a4e394348f"
      },
      "source": [
        "# Step 4: Training the model\n",
        "\n",
        "from sklearn.model_selection import GridSearchCV\n",
        "from sklearn.neighbors import KNeighborsClassifier\n",
        "model = KNeighborsClassifier()\n",
        "model.fit(x_train,y_train)"
      ],
      "execution_count": 9,
      "outputs": [
        {
          "output_type": "execute_result",
          "data": {
            "text/plain": [
              "KNeighborsClassifier(algorithm='auto', leaf_size=30, metric='minkowski',\n",
              "                     metric_params=None, n_jobs=None, n_neighbors=5, p=2,\n",
              "                     weights='uniform')"
            ]
          },
          "metadata": {
            "tags": []
          },
          "execution_count": 9
        }
      ]
    },
    {
      "cell_type": "code",
      "metadata": {
        "colab": {
          "base_uri": "https://localhost:8080/"
        },
        "id": "z6m9L41siMp_",
        "outputId": "b1349881-5fb7-43c7-86b6-62c3b5696339"
      },
      "source": [
        "# Step 5: Predicting the values\n",
        "y_pred = model.predict(x_test)\n",
        "y_pred"
      ],
      "execution_count": 10,
      "outputs": [
        {
          "output_type": "execute_result",
          "data": {
            "text/plain": [
              "array([0, 0, 1, 1, 0, 0, 0, 0, 0, 1, 0, 0, 1, 1, 1, 0, 1, 1, 0, 1, 1])"
            ]
          },
          "metadata": {
            "tags": []
          },
          "execution_count": 10
        }
      ]
    },
    {
      "cell_type": "code",
      "metadata": {
        "colab": {
          "base_uri": "https://localhost:8080/"
        },
        "id": "Lk1lk745iUp7",
        "outputId": "83a4078d-26b1-4e15-c0fd-ab4254e82e50"
      },
      "source": [
        "y_test"
      ],
      "execution_count": 11,
      "outputs": [
        {
          "output_type": "execute_result",
          "data": {
            "text/plain": [
              "array([0, 0, 1, 0, 1, 0, 0, 0, 1, 0, 0, 0, 1, 0, 1, 0, 1, 0, 1, 1, 0])"
            ]
          },
          "metadata": {
            "tags": []
          },
          "execution_count": 11
        }
      ]
    },
    {
      "cell_type": "code",
      "metadata": {
        "colab": {
          "base_uri": "https://localhost:8080/"
        },
        "id": "CPNIuj4hiZP7",
        "outputId": "d5c6fde9-1ccf-458e-920c-faf1df03a119"
      },
      "source": [
        "# Step 6: Checking the accuracy score\n",
        "from sklearn.metrics import accuracy_score,confusion_matrix\n",
        "accuracy_score(y_pred,y_test)"
      ],
      "execution_count": 12,
      "outputs": [
        {
          "output_type": "execute_result",
          "data": {
            "text/plain": [
              "0.6190476190476191"
            ]
          },
          "metadata": {
            "tags": []
          },
          "execution_count": 12
        }
      ]
    },
    {
      "cell_type": "code",
      "metadata": {
        "colab": {
          "base_uri": "https://localhost:8080/"
        },
        "id": "cQYDwW7_iskq",
        "outputId": "151e5901-c0f8-4714-942b-a2392fd85b80"
      },
      "source": [
        "confusion_matrix(y_pred,y_test)"
      ],
      "execution_count": 13,
      "outputs": [
        {
          "output_type": "execute_result",
          "data": {
            "text/plain": [
              "array([[8, 3],\n",
              "       [5, 5]])"
            ]
          },
          "metadata": {
            "tags": []
          },
          "execution_count": 13
        }
      ]
    },
    {
      "cell_type": "code",
      "metadata": {
        "id": "61fWhCLjnqu_"
      },
      "source": [
        "#import pickle\n",
        "#pickle.dump(clf,open('img_class_model.p','wb'))"
      ],
      "execution_count": 14,
      "outputs": []
    },
    {
      "cell_type": "code",
      "metadata": {
        "colab": {
          "base_uri": "https://localhost:8080/",
          "height": 340
        },
        "id": "QUqr6V7mixx6",
        "outputId": "f22b9aed-073d-4a2b-9148-e1b1a490f7ce"
      },
      "source": [
        "# Step 7: Testing a new image\n",
        "\n",
        "#model = pickle.load(open('img_class_model.p','rb'))\n",
        "flat_data = []\n",
        "url = input(\"Enter your image url: \")\n",
        "img = imread(url) \n",
        "img_resized = resize(img,(100,100,3))\n",
        "flat_data.append(img_resized.flatten())\n",
        "flat_data = np.array(flat_data)\n",
        "print(img.shape)\n",
        "plt.imshow(img_resized)\n",
        "y_out = model.predict(flat_data)\n",
        "y_out = CATEGORIES[y_out[0]]\n",
        "print(f'PREDICTED OUTPUT: {y_out}')"
      ],
      "execution_count": 16,
      "outputs": [
        {
          "output_type": "stream",
          "text": [
            "Enter your image url: https://encrypted-tbn0.gstatic.com/images?q=tbn:ANd9GcRIXJoChJMuX2v5eNYmRuQt0JkKQ2eZDgb14w&usqp=CAU\n",
            "(225, 225, 3)\n",
            "PREDICTED OUTPUT: Tigers\n"
          ],
          "name": "stdout"
        },
        {
          "output_type": "display_data",
          "data": {
            "image/png": "[encoded data removed]",
            "text/plain": [
              "<Figure size 432x288 with 1 Axes>"
            ]
          },
          "metadata": {
            "tags": [],
            "needs_background": "light"
          }
        }
      ]
    }
  ]
}